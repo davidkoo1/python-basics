{
 "cells": [
  {
   "metadata": {},
   "cell_type": "markdown",
   "source": "# Лабораторная №3",
   "id": "e9c397d9723b81f9"
  },
  {
   "metadata": {},
   "cell_type": "markdown",
   "source": "## Регулярные выражения",
   "id": "e9126e1929543902"
  },
  {
   "metadata": {},
   "cell_type": "markdown",
   "source": "В нашем отеле все номера комнат всегда имеют формат \"A12\", где \"A\" — это буква, а \"12\" — цифры. Напишите программу, которая проверяет, соответствует ли номер комнаты этому формату.",
   "id": "5c13064c49a1b748"
  },
  {
   "metadata": {},
   "cell_type": "code",
   "outputs": [],
   "execution_count": null,
   "source": "import re",
   "id": "5be394ea56bf93bc"
  },
  {
   "cell_type": "code",
   "id": "initial_id",
   "metadata": {
    "collapsed": true,
    "ExecuteTime": {
     "end_time": "2024-12-09T12:27:44.569398Z",
     "start_time": "2024-12-09T12:27:44.567658Z"
    }
   },
   "source": [
    "def check_room_number(room_number):\n",
    "    # Напиши решение тут\n",
    "    pass\n",
    "\n",
    "# Пример использования:\n",
    "room_number = \"B15\"\n",
    "result = check_room_number(room_number)\n",
    "print(result)  # True\n"
   ],
   "outputs": [],
   "execution_count": null
  },
  {
   "metadata": {},
   "cell_type": "markdown",
   "source": [
    "Нам часто поступает список питомцев в виде строки, где данные о каждом питомце разделены пробелами или запятыми.\\\n",
    " Напишите программу, которая будет извлекать информацию о каждом питомце (имя, порода, возраст) и выводить их по категориям."
   ],
   "id": "4bc60da9bced479c"
  },
  {
   "metadata": {
    "ExecuteTime": {
     "end_time": "2024-12-09T12:43:35.644847Z",
     "start_time": "2024-12-09T12:43:35.640972Z"
    }
   },
   "cell_type": "code",
   "source": [
    "def extract_pet_info(data):\n",
    "    # Напиши решение тут\n",
    "    pass\n",
    "\n",
    "# Пример использования:\n",
    "pet_data = \"Лара кошка 3 года, Рекс собака 5 лет, Молли попугай 2 года\"\n",
    "result = extract_pet_info(pet_data)\n",
    "print(result) #[['Лара', 'кошка', '3 года'], ['Рекс', 'собака', '5 лет'], ['Молли', 'попугай', '2 года']]"
   ],
   "id": "b4dd5b399b1fb610",
   "outputs": [
    {
     "name": "stdout",
     "output_type": "stream",
     "text": [
      "None\n"
     ]
    }
   ],
   "execution_count": 2
  },
  {
   "metadata": {},
   "cell_type": "markdown",
   "source": [
    "Нам необходимо собирать контактные данные владельцев.\\\n",
    " Напишите программу, которая проверяет, соответствует ли введенная электронная почта владельца правильному формату"
   ],
   "id": "3bb615a06135b91a"
  },
  {
   "metadata": {},
   "cell_type": "code",
   "outputs": [],
   "execution_count": null,
   "source": [
    "def check_email_format(email):\n",
    "    # Напиши решение тут\n",
    "    pass\n",
    "\n",
    "# Пример использования:\n",
    "email = \"owner@example.com\"\n",
    "result = check_email_format(email)\n",
    "print(result)  # True\n"
   ],
   "id": "20e834bfb2499f8c"
  },
  {
   "metadata": {},
   "cell_type": "markdown",
   "source": [
    "Иногда владельцы могут указывать аллергии у своих питомцев.\\\n",
    " Напишите программу, которая проверяет, упоминается ли в записи аллергия на определенные вещества, такие как \"пыльца\", \"рыба\" или \"глютен\"."
   ],
   "id": "1cbf05c36d87598d"
  },
  {
   "metadata": {},
   "cell_type": "code",
   "outputs": [],
   "execution_count": null,
   "source": [
    "def check_allergies(data):\n",
    "    pass\n",
    "\n",
    "# Пример использования:\n",
    "animal_allergies = \"Животное имеет аллергию на пыльцу.\"\n",
    "result = check_allergies(animal_allergies)\n",
    "print(result)  # True\n"
   ],
   "id": "4310d3bfe276a135"
  }
 ],
 "metadata": {
  "kernelspec": {
   "display_name": "Python 3",
   "language": "python",
   "name": "python3"
  },
  "language_info": {
   "codemirror_mode": {
    "name": "ipython",
    "version": 2
   },
   "file_extension": ".py",
   "mimetype": "text/x-python",
   "name": "python",
   "nbconvert_exporter": "python",
   "pygments_lexer": "ipython2",
   "version": "2.7.6"
  }
 },
 "nbformat": 4,
 "nbformat_minor": 5
}
