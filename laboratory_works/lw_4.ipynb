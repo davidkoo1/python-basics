{
 "cells": [
  {
   "metadata": {},
   "cell_type": "markdown",
   "source": "# Лабораторная №4",
   "id": "dbdc233127f696cc"
  },
  {
   "metadata": {},
   "cell_type": "markdown",
   "source": "## ООП",
   "id": "4d4d2deb96c025ef"
  },
  {
   "metadata": {},
   "cell_type": "markdown",
   "source": [
    "Создайте класс Pet, который будет хранить информацию о питомце (имя, порода и возраст) с использованием декоратора `@property` для защиты данных.\\\n",
    " Добавьте методы для получения и изменения этих данных."
   ],
   "id": "d3c53e7d4eb1979f"
  },
  {
   "cell_type": "code",
   "id": "initial_id",
   "metadata": {
    "collapsed": true,
    "ExecuteTime": {
     "end_time": "2024-12-09T12:51:53.511130Z",
     "start_time": "2024-12-09T12:51:53.509015Z"
    }
   },
   "source": [
    "class Pet:\n",
    "    def __init__(self, name, breed, age):\n",
    "        # Напиши решение тут\n",
    "        pass\n",
    "\n",
    "# Пример использования:\n",
    "pet = Pet(\"Лара\", \"Кошка\", 3)\n",
    "print(pet.name)  # Лара\n",
    "pet.age = 4\n",
    "print(pet.age)  # 4\n"
   ],
   "outputs": [],
   "execution_count": 2
  },
  {
   "metadata": {},
   "cell_type": "markdown",
   "source": "Создайте два класса-наследника Cat и Dog, которые будут добавлять уникальные атрибуты и методы для каждого типа животного.",
   "id": "1bfe9c139ee8f0f3"
  },
  {
   "metadata": {
    "ExecuteTime": {
     "end_time": "2024-12-09T12:51:59.636606Z",
     "start_time": "2024-12-09T12:51:59.634915Z"
    }
   },
   "cell_type": "code",
   "source": [
    "class Cat(Pet):\n",
    "    def __init__(self, name, breed, age, favorite_toy):\n",
    "        # Напиши решение тут\n",
    "        pass\n",
    "\n",
    "class Dog(Pet):\n",
    "    def __init__(self, name, breed, age, trick):\n",
    "        # Напиши решение тут\n",
    "        pass\n",
    "\n",
    "# Пример использования:\n",
    "cat = Cat(\"Лара\", \"Кошка\", 3, \"мячик\")\n",
    "dog = Dog(\"Рекс\", \"Собака\", 5, \"крутит хвост\")\n",
    "\n",
    "print(cat.name)  # Лара\n",
    "cat.favorite_toy = \"ниточка\"\n",
    "print(cat.play())  # Лара играет с ниточка\n",
    "print(dog.name)  # Рекс\n",
    "print(dog.perform_trick())  # Рекс выполняет трюк: крутит хвост\n"
   ],
   "id": "887063e06668c41e",
   "outputs": [],
   "execution_count": null
  },
  {
   "metadata": {},
   "cell_type": "markdown",
   "source": [
    "Добавьте в классы Cat и Dog метод `make_sound()`, который будет выводить характерный звук для каждого животного.\\\n",
    "В методе `make_sound()` используйте полиморфизм с `@property`, чтобы каждый класс реализовал свой собственный звук."
   ],
   "id": "3e2c263e750c179a"
  },
  {
   "metadata": {},
   "cell_type": "code",
   "outputs": [],
   "execution_count": null,
   "source": [
    "class Pet:\n",
    "    def __init__(self, name, breed, age):\n",
    "        self._name = name\n",
    "        self._breed = breed\n",
    "        self._age = age\n",
    "\n",
    "    def sound(self):\n",
    "        raise NotImplementedError(\"Метод sound должен быть переопределен в дочернем классе\")\n",
    "\n",
    "class Cat(Pet):\n",
    "    def __init__(self, name, breed, age, favorite_toy):\n",
    "        pass\n",
    "    def sound(self):\n",
    "        # Напиши решение тут\n",
    "        pass\n",
    "\n",
    "class Dog(Pet):\n",
    "    def __init__(self, name, breed, age, trick):\n",
    "        pass\n",
    "    def sound(self):\n",
    "        # Напиши решение тут\n",
    "        pass\n",
    "\n",
    "# Пример использования:\n",
    "cat = Cat(\"Лара\", \"Кошка\", 3)\n",
    "dog = Dog(\"Рекс\", \"Собака\", 5)\n",
    "\n",
    "print(cat.sound)  # Лара говорит: Мяу!\n",
    "print(dog.sound)  # Рекс говорит: Гав!\n"
   ],
   "id": "ec95ba6e38d157a5"
  },
  {
   "metadata": {},
   "cell_type": "markdown",
   "source": [
    "Вам нужно разработать систему для учета различных услуг, предоставляемых в отеле для животных. Для этого необходимо создать абстрактный класс Service, который будет представлять услугу для питомца. Этот класс должен содержать абстрактный метод perform_service(), который будет реализован в классах-наследниках.\n",
    "\n",
    "- Создайте абстрактный класс Service, в котором определите абстрактный метод perform_service().\n",
    "- Создайте два класса-наследника:\n",
    "    + GroomingService: Класс, который будет представлять услугу по уходу за животным (груминг). В методе perform_service() должно быть сообщение о завершении услуги.\n",
    "    + WalkingService: Класс, который будет представлять услугу прогулки с питомцем. В методе perform_service() должно быть сообщение о завершении прогулки.\n",
    "- Каждый класс-наследник должен реализовать метод perform_service(), и этот метод должен возвращать строку, описывающую выполнение услуги для питомца (например, сообщение о завершении груминга или прогулки)."
   ],
   "id": "f78d1b7c081e13b6"
  },
  {
   "metadata": {
    "ExecuteTime": {
     "end_time": "2024-12-09T12:57:54.537643Z",
     "start_time": "2024-12-09T12:57:54.535298Z"
    }
   },
   "cell_type": "code",
   "source": [
    "from abc import ABC, abstractmethod\n",
    "\n",
    "\n",
    "class Service(ABC):\n",
    "    @abstractmethod\n",
    "    def perform_service(self):\n",
    "        pass\n",
    "\n",
    "\n",
    "class GroomingService(Service):\n",
    "    def __init__(self, pet_name):\n",
    "        pass\n",
    "\n",
    "\n",
    "class WalkingService(Service):\n",
    "    def __init__(self, pet_name):\n",
    "        pass\n",
    "\n",
    "# Пример использования:\n",
    "grooming = GroomingService(\"Лара\")\n",
    "walking = WalkingService(\"Рекс\")\n",
    "\n",
    "print(grooming.perform_service())  # Услуга груминга для Лара выполнена!\n",
    "print(walking.perform_service())  # Прогулка с Рекс завершена!\n"
   ],
   "id": "974e9826d435527f",
   "outputs": [],
   "execution_count": null
  },
  {
   "metadata": {},
   "cell_type": "code",
   "outputs": [],
   "execution_count": null,
   "source": "",
   "id": "d1a567f0e98281f1"
  }
 ],
 "metadata": {
  "kernelspec": {
   "display_name": "Python 3",
   "language": "python",
   "name": "python3"
  },
  "language_info": {
   "codemirror_mode": {
    "name": "ipython",
    "version": 2
   },
   "file_extension": ".py",
   "mimetype": "text/x-python",
   "name": "python",
   "nbconvert_exporter": "python",
   "pygments_lexer": "ipython2",
   "version": "2.7.6"
  }
 },
 "nbformat": 4,
 "nbformat_minor": 5
}
