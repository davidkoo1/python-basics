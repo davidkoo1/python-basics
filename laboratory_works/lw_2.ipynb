{
 "cells": [
  {
   "metadata": {},
   "cell_type": "markdown",
   "source": "# Лабораторная №2",
   "id": "9e9f885ad1cd3def"
  },
  {
   "metadata": {},
   "cell_type": "markdown",
   "source": "## Условия, циклы, функции",
   "id": "425707c53189a3f4"
  },
  {
   "metadata": {},
   "cell_type": "markdown",
   "source": [
    "\n",
    "Нам дали задачу проверить, является ли территория для выгулов питомцев квадратной. В переменных `length` и `width` заданы значения длины и ширины этой территории. Необходимо проверить, является ли эта территория квадратной.\n",
    "\n",
    "Сохраните в переменную `result` значение `True`, если территория квадратная, и `False` — если нет."
   ],
   "id": "2a4a09414a32a3d5"
  },
  {
   "cell_type": "code",
   "id": "initial_id",
   "metadata": {
    "collapsed": true,
    "ExecuteTime": {
     "end_time": "2024-12-09T11:59:00.117606Z",
     "start_time": "2024-12-09T11:59:00.114166Z"
    }
   },
   "source": [
    "length = 121\n",
    "width = 100\n",
    "result = False\n",
    "\n",
    "#Пример 2\n",
    "length = 10\n",
    "width = 10\n",
    "result = True"
   ],
   "outputs": [],
   "execution_count": 1
  },
  {
   "metadata": {
    "ExecuteTime": {
     "end_time": "2024-12-09T11:59:13.036578Z",
     "start_time": "2024-12-09T11:59:13.033939Z"
    }
   },
   "cell_type": "code",
   "source": "# Напиши решение тут\n",
   "id": "2a8406f5868bba93",
   "outputs": [],
   "execution_count": 2
  },
  {
   "metadata": {},
   "cell_type": "markdown",
   "source": [
    "\n",
    "Мы решили выплатить премии сотрудникам в зависимости от их стажа работы. Премия рассчитывается следующим образом:\n",
    "\n",
    "- Если стаж работы сотрудника больше или равен 2 года, премия составляет 2 оклада.\n",
    "- Если стаж работы сотрудника больше или равен 5 лет, премия составляет 5 окладов.\n",
    "- Если стаж работы сотрудника больше или равен 15 лет, премия составляет 10 окладов.\n",
    "- Если стаж работы меньше 2 лет, премия равна 0.\n",
    "\n",
    "В переменной `salary` — зарплата сотрудника, в переменной `work_experience` — его стаж. Нужно вычислить размер премии и сохранить результат в переменную `result`."
   ],
   "id": "83b5067e4a0fa617"
  },
  {
   "metadata": {
    "ExecuteTime": {
     "end_time": "2024-12-09T12:03:56.260649Z",
     "start_time": "2024-12-09T12:03:56.257743Z"
    }
   },
   "cell_type": "code",
   "source": [
    "# Пример 1\n",
    "salary = 150000\n",
    "work_experience = 3\n",
    "result = 300000\n",
    "\n",
    "# Пример 2\n",
    "salary = 100000\n",
    "work_experience = 1\n",
    "result = 0\n",
    "\n",
    "# Пример 3\n",
    "salary = 200000\n",
    "work_experience = 16\n",
    "result = 2000000"
   ],
   "id": "4947ebf0ab3ebbd8",
   "outputs": [],
   "execution_count": 5
  },
  {
   "metadata": {
    "ExecuteTime": {
     "end_time": "2024-12-09T12:03:56.915203Z",
     "start_time": "2024-12-09T12:03:56.912679Z"
    }
   },
   "cell_type": "code",
   "source": "# Напиши решение тут",
   "id": "1189f927e3a63e2c",
   "outputs": [],
   "execution_count": 6
  },
  {
   "metadata": {},
   "cell_type": "markdown",
   "source": "Есть словарь `grades`, содержащий информацию о питомцах и услугах отеля для животных, а также их оценках. В список `good_services` нужно сохранить названия всех услуг, которые получили оценку 8 или выше.",
   "id": "1a47c0bb8604d85e"
  },
  {
   "metadata": {
    "ExecuteTime": {
     "end_time": "2024-12-09T12:07:09.133555Z",
     "start_time": "2024-12-09T12:07:09.130844Z"
    }
   },
   "cell_type": "code",
   "source": [
    "grades = {\n",
    "    \"food\": 5,\n",
    "    \"hygiene\": 4,\n",
    "    \"outdoor walks\": 9,\n",
    "    \"fur care\": 7\n",
    "}\n",
    "# Output: ['food', 'outdoor walks']"
   ],
   "id": "d4fee48cb2dabcf5",
   "outputs": [],
   "execution_count": 8
  },
  {
   "metadata": {
    "ExecuteTime": {
     "end_time": "2024-12-09T12:06:09.715210Z",
     "start_time": "2024-12-09T12:06:09.712067Z"
    }
   },
   "cell_type": "code",
   "source": "# Напиши решение тут\n",
   "id": "5bb1f8d2b45d553a",
   "outputs": [],
   "execution_count": 7
  },
  {
   "metadata": {},
   "cell_type": "markdown",
   "source": [
    "**Задача:**\n",
    "\n",
    "Напишите программу, которая принимает в качестве аргументов два списка `lst_1` и `lst_2`, представляющие оценки различных услуг в отеле для животных. Определите, являются ли они противоположными друг другу. Результат проверки сохраните в переменную `result` в формате `True` или `False`.\n",
    "\n",
    "Список будет считаться противоположным (анти-списком), если все элементы во втором списке противоположны соответствующим элементам в первом списке. Например, если в первом списке оценка 4, то во втором должна быть оценка 1, и наоборот.\n"
   ],
   "id": "68ac8bcb0e04fdc5"
  },
  {
   "metadata": {
    "ExecuteTime": {
     "end_time": "2024-12-09T12:10:09.592660Z",
     "start_time": "2024-12-09T12:10:09.589368Z"
    }
   },
   "cell_type": "code",
   "source": [
    "lst_1 = [\"1\", \"0\", \"0\", \"1\"]\n",
    "lst_2 = [\"0\", \"1\", \"1\", \"0\"]\n",
    "result = True\n",
    "\n",
    "lst_1 = [3, 4]\n",
    "lst_2 = [4, 3]\n",
    "result = True\n",
    "\n",
    "lst_1 = [1, 1]\n",
    "lst_2 = [2, 2]\n",
    "result = False\n"
   ],
   "id": "c247de3ee5a9e60a",
   "outputs": [],
   "execution_count": 9
  },
  {
   "metadata": {},
   "cell_type": "code",
   "outputs": [],
   "execution_count": null,
   "source": "# Напиши решение тут\n",
   "id": "c1b907387b93a29a"
  },
  {
   "metadata": {},
   "cell_type": "markdown",
   "source": [
    "Дан список кортежей `input_list`, каждый из которых содержит название услуги в отеле для животных и её стоимость. Отсортируйте список `input_list` по второму элементу кортежа (оценке) в порядке убывания. Затем отфильтруйте список, чтобы остались только те услуги, у которых оценка кратна 5. Результат сохраните в переменную result.\n",
    "\n",
    "Для решения задачи используйте lambda-функцию."
   ],
   "id": "32734e2d177c9fa"
  },
  {
   "metadata": {
    "ExecuteTime": {
     "end_time": "2024-12-09T12:13:55.186953Z",
     "start_time": "2024-12-09T12:13:55.183344Z"
    }
   },
   "cell_type": "code",
   "source": "input_list = [(\"food\", 5), (\"hygiene\", 3), (\"outdoor walks\", 10), (\"fur care\", 15), (\"playtime\", 7)]",
   "id": "54ca7285b6d4f539",
   "outputs": [],
   "execution_count": 10
  },
  {
   "metadata": {},
   "cell_type": "code",
   "outputs": [],
   "execution_count": null,
   "source": "# Напиши решение тут\n",
   "id": "9c9b829170cb8f2a"
  },
  {
   "metadata": {},
   "cell_type": "markdown",
   "source": [
    "В отеле для животных требуется подобрать рацион для каждого животного в зависимости от его типа (собаки или кошки).\\\n",
    "Напишите программу, которая:\n",
    "\n",
    "- Примет список кортежей, где каждый кортеж состоит из имени животного, его типа (собака или кошка) и возраста.\n",
    "- Для каждого животного, в зависимости от его типа, подберет рацион:\n",
    "    + Для собак — рацион из корма для собак и витаминов.\n",
    "    + Для кошек — рацион из корма для кошек и добавок для шерсти.\n",
    "- Сохраните результат в новом списке, где для каждого животного будет указано имя и его рацион."
   ],
   "id": "d7f53fd342d1cd0f"
  },
  {
   "metadata": {
    "ExecuteTime": {
     "end_time": "2024-12-09T12:17:41.880425Z",
     "start_time": "2024-12-09T12:17:41.877631Z"
    }
   },
   "cell_type": "code",
   "source": "animal_info = [(\"Rex\", \"dog\", 5), (\"Mittens\", \"cat\", 3), (\"Buddy\", \"dog\", 2)]",
   "id": "a11c1692c9761fa4",
   "outputs": [],
   "execution_count": 11
  },
  {
   "metadata": {
    "ExecuteTime": {
     "end_time": "2024-12-09T12:17:45.752499Z",
     "start_time": "2024-12-09T12:17:45.750033Z"
    }
   },
   "cell_type": "code",
   "source": "# Напиши решение тут\n",
   "id": "5b5cc07ed41f2515",
   "outputs": [],
   "execution_count": 12
  },
  {
   "metadata": {},
   "cell_type": "code",
   "outputs": [],
   "execution_count": null,
   "source": "",
   "id": "80bc48f253b4c450"
  }
 ],
 "metadata": {
  "kernelspec": {
   "display_name": "Python 3",
   "language": "python",
   "name": "python3"
  },
  "language_info": {
   "codemirror_mode": {
    "name": "ipython",
    "version": 2
   },
   "file_extension": ".py",
   "mimetype": "text/x-python",
   "name": "python",
   "nbconvert_exporter": "python",
   "pygments_lexer": "ipython2",
   "version": "2.7.6"
  }
 },
 "nbformat": 4,
 "nbformat_minor": 5
}
