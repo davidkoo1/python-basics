{
 "cells": [
  {
   "metadata": {},
   "cell_type": "markdown",
   "source": "# Лабораторная №1",
   "id": "9a81179d10da8330"
  },
  {
   "metadata": {},
   "cell_type": "markdown",
   "source": "## Типы данных",
   "id": "13feb24fde5be69a"
  },
  {
   "metadata": {},
   "cell_type": "markdown",
   "source": "### Создание отеля для домашних питомцев",
   "id": "bba57d25e715324b"
  },
  {
   "metadata": {},
   "cell_type": "markdown",
   "source": [
    "Вы работаете администратором в отеле для животных. Создайте программу, которая будет приветствовать клиентов:\n",
    "\n",
    "Сначала попросите владельца животного ввести свое имя.\n",
    "Затем выведите приветственное сообщение, используя введенное имя:"
   ],
   "id": "535f9e86de783809"
  },
  {
   "metadata": {},
   "cell_type": "markdown",
   "source": [
    "#### Пример:\n",
    "Введите ваше имя: Оля\\\n",
    "Привет, Оля! Добро пожаловать!\n"
   ],
   "id": "6023d4389ce6cd8"
  },
  {
   "cell_type": "code",
   "id": "initial_id",
   "metadata": {
    "collapsed": true,
    "ExecuteTime": {
     "end_time": "2024-12-09T11:54:52.877187Z",
     "start_time": "2024-12-09T11:54:52.874622Z"
    }
   },
   "source": "# Напиши решение тут\n",
   "outputs": [],
   "execution_count": 5
  },
  {
   "metadata": {},
   "cell_type": "markdown",
   "source": [
    "\n",
    "\n",
    "Создайте программу, которая сохраняет информацию о питомце клиента (например, коте):\n",
    "\n",
    "- Создайте переменную `user_name` и сохраните в нее имя владельца кота (строка, минимум из двух символов).\n",
    "- Создайте переменную `cat_name` и сохраните в нее имя кота (строка, минимум из двух символов).\n",
    "- Создайте переменную `cat_age`, в которой будет храниться возраст кота (неотрицательное число).\n",
    "- Создайте переменную `is_fluffy`, которая будет содержать значение True, если кот пушистый, или False, если нет."
   ],
   "id": "c974779de734f3f5"
  },
  {
   "metadata": {
    "ExecuteTime": {
     "end_time": "2024-12-08T09:01:43.897304Z",
     "start_time": "2024-12-08T09:01:43.893859Z"
    }
   },
   "cell_type": "code",
   "source": "# Напиши решение тут\n",
   "id": "1706cc04f917c519",
   "outputs": [],
   "execution_count": 1
  },
  {
   "metadata": {},
   "cell_type": "markdown",
   "source": "Выведите на экран тип данных для определенных ранее переменных.",
   "id": "9167b3f37213d5a8"
  },
  {
   "metadata": {
    "ExecuteTime": {
     "end_time": "2024-12-08T09:01:50.986354Z",
     "start_time": "2024-12-08T09:01:50.983207Z"
    }
   },
   "cell_type": "code",
   "source": "# Напиши решение тут",
   "id": "a5fde07e6e8977cb",
   "outputs": [],
   "execution_count": 2
  },
  {
   "metadata": {},
   "cell_type": "markdown",
   "source": [
    "- Преобразуйте имя питомца в нижний регистр и сохраните результат в новой переменной.(Чтобы вместо этого \"tOm\" у нас бы было \"tom\")\n",
    "- Cоздайте строку по шаблону \"user_name__pet_name\".\n",
    "- Выведите длину получившейся строки."
   ],
   "id": "4beb2fbddf03bbda"
  },
  {
   "metadata": {
    "ExecuteTime": {
     "end_time": "2024-12-08T09:05:20.954730Z",
     "start_time": "2024-12-08T09:05:20.951642Z"
    }
   },
   "cell_type": "code",
   "source": "# Напиши решение тут\n",
   "id": "573c572586967639",
   "outputs": [],
   "execution_count": 3
  },
  {
   "metadata": {},
   "cell_type": "markdown",
   "source": [
    "Используя навыки форматирования строк в Python, выведите на экран следующую фразу, подставив значения переменных:\n",
    "\"У {user_name} есть питомец по имени {pet_name}, и ей уже {pet_age} лет.\""
   ],
   "id": "5d547bfdd571f872"
  },
  {
   "metadata": {
    "ExecuteTime": {
     "end_time": "2024-12-08T09:36:31.294315Z",
     "start_time": "2024-12-08T09:36:31.291576Z"
    }
   },
   "cell_type": "code",
   "source": "# Напиши решение тут",
   "id": "93d009ebee158763",
   "outputs": [],
   "execution_count": 5
  },
  {
   "metadata": {},
   "cell_type": "markdown",
   "source": "Нам интересно узнать является ли имя питомца палиндромом. Проверьте это используя срезы:",
   "id": "b182d7062fd2ec90"
  },
  {
   "metadata": {
    "ExecuteTime": {
     "end_time": "2024-12-08T22:18:14.739713Z",
     "start_time": "2024-12-08T22:18:14.735804Z"
    }
   },
   "cell_type": "code",
   "source": "# Напиши решение тут\n",
   "id": "8de8e4c76fac1e71",
   "outputs": [],
   "execution_count": 14
  },
  {
   "metadata": {},
   "cell_type": "markdown",
   "source": [
    "В переменной `our_position` сохранено некоторое предложение, в котором могут быть добавлены лишние пробелы.  Напишите программу, которая будет убирать из `our_position` лишние пробелы и сохранять результат в переменную `result`.\\\n",
    "Все слова должны быть разделены одним пробелом, а в начале и конце предложения пробелов быть не должно."
   ],
   "id": "b0158dd42eeebfed"
  },
  {
   "metadata": {
    "ExecuteTime": {
     "end_time": "2024-12-08T10:05:12.367240Z",
     "start_time": "2024-12-08T10:05:12.363874Z"
    }
   },
   "cell_type": "code",
   "source": [
    "a = \"Мы     находимся   на улице      Пушкина.   \"\n",
    "result = \"Мы находимся на улице Пушкина.\""
   ],
   "id": "3cd4f31f635bca0",
   "outputs": [],
   "execution_count": 6
  },
  {
   "metadata": {
    "ExecuteTime": {
     "end_time": "2024-12-08T22:29:49.603518Z",
     "start_time": "2024-12-08T22:29:49.600307Z"
    }
   },
   "cell_type": "code",
   "source": "# Напиши решение тут\n",
   "id": "36705cf2b1431541",
   "outputs": [],
   "execution_count": 2
  },
  {
   "metadata": {},
   "cell_type": "markdown",
   "source": [
    "Мы хотим улучшить процесс шифрования и хранения информации о платежах, чтобы обеспечить конфиденциальность и защиту данных.\\\n",
    "Напишите программу, которая будет принимать номер кредитной карты `card` и возвращать номер карты, в котором будут видны только последние 4 цифры. Остальные цифры должны заменяться звездочками.\\\n",
    "Результат сохраните в `result`."
   ],
   "id": "df621069ed13e48"
  },
  {
   "metadata": {
    "ExecuteTime": {
     "end_time": "2024-12-08T10:06:51.486317Z",
     "start_time": "2024-12-08T10:06:51.483740Z"
    }
   },
   "cell_type": "code",
   "source": [
    "card = '5468350018455833'\n",
    "result = '************5833'"
   ],
   "id": "5cee3863129cccf0",
   "outputs": [],
   "execution_count": 11
  },
  {
   "metadata": {
    "ExecuteTime": {
     "end_time": "2024-12-08T22:30:37.334953Z",
     "start_time": "2024-12-08T22:30:37.332365Z"
    }
   },
   "cell_type": "code",
   "source": "# Напиши решение тут\n",
   "id": "a16eca170ac4f54b",
   "outputs": [],
   "execution_count": 3
  },
  {
   "metadata": {},
   "cell_type": "markdown",
   "source": [
    "В отеле для животных хранится список номеров клиентов, которые пользуются VIP-услугами. Этот список называется `vip_list`.\n",
    "- Найдите индекс первого появления клиента с номером 11 в списке и сохраните его в переменную `eleven_index`.\n",
    "- Определите, сколько раз клиент с номером 10 встречается в списке, и сохраните это количество в переменной `ten_count`. Если клиента с номером 10 в списке нет, переменная `ten_count` должна быть равна 0."
   ],
   "id": "800123d387461d89"
  },
  {
   "metadata": {
    "ExecuteTime": {
     "end_time": "2024-12-08T23:07:51.304148Z",
     "start_time": "2024-12-08T23:07:51.301019Z"
    }
   },
   "cell_type": "code",
   "source": [
    "vip_list  = [1, 11, 0, 10, 11]\n",
    "eleven_index  = 1\n",
    "ten_count  = 1\n",
    "\n",
    "vip_list = [11, 2, 0, 6]\n",
    "eleven_index  = 0\n",
    "ten_count  = 0\n"
   ],
   "id": "c648910d57bbaea4",
   "outputs": [],
   "execution_count": 4
  },
  {
   "metadata": {
    "ExecuteTime": {
     "end_time": "2024-12-08T23:07:55.934563Z",
     "start_time": "2024-12-08T23:07:55.932024Z"
    }
   },
   "cell_type": "code",
   "source": "# Напиши решение тут\n",
   "id": "a7ffd1e1c7452fe2",
   "outputs": [],
   "execution_count": 5
  },
  {
   "metadata": {},
   "cell_type": "markdown",
   "source": [
    "- В списке `pet_names` содержатся имена животных, которые проживают в отеле. Добавьте в этот список два имени: 'Барсик' и 'Мурка'.\n",
    "\n",
    "- В списке `cleaning_schedule` содержится список из десяти чисел, представляющих дни месяца, когда запланирована уборка. Удалите из этого списка второй, пятый и последний день из исходного списка. Учтите, что индексы элементов смещаются после каждой операции удаления.\n",
    "\n",
    "- В списке `services` содержатся названия услуг, предоставляемых в отеле. Отсортируйте список услуг в алфавитном порядке."
   ],
   "id": "1b82470f1fe0d82e"
  },
  {
   "metadata": {
    "ExecuteTime": {
     "end_time": "2024-12-08T23:10:46.481634Z",
     "start_time": "2024-12-08T23:10:46.477465Z"
    }
   },
   "cell_type": "code",
   "source": [
    "pet_names = ['Шарик', 'Бобик', 'Белка']\n",
    "cleaning_schedule = [1, 3, 5, 7, 9, 11, 13, 15, 17, 19]\n",
    "services = ['Груминг', 'Прогулка', 'Кормление', 'Игры']\n",
    "\n",
    "pet_names = ['Шарик', 'Бобик', 'Белка', 'Барсик', 'Мурка']\n",
    "cleaning_schedule = [1, 5, 7, 11, 13, 15, 17]\n",
    "services = ['Груминг', 'Игры', 'Кормление', 'Прогулка']\n"
   ],
   "id": "9ebac36854610ddb",
   "outputs": [],
   "execution_count": 6
  },
  {
   "metadata": {
    "ExecuteTime": {
     "end_time": "2024-12-08T23:10:52.145141Z",
     "start_time": "2024-12-08T23:10:52.142787Z"
    }
   },
   "cell_type": "code",
   "source": "# Напиши решение тут\n",
   "id": "d0bc008d95ee498b",
   "outputs": [],
   "execution_count": 7
  },
  {
   "metadata": {},
   "cell_type": "markdown",
   "source": [
    "В отеле для животных есть меню дополнительных услуг, хранящееся в переменной menu, и список услуг, временно недоступных сегодня, хранящийся в переменной `unavailable_services`.\n",
    "\n",
    "Сохраните в переменную `available_services` те услуги, которые доступны для заказа сегодня.\n",
    "Используйте операции с множествами, чтобы вычислить разницу между `menu` и `unavailable_services`."
   ],
   "id": "f6d415e4a4c9cbe5"
  },
  {
   "metadata": {
    "ExecuteTime": {
     "end_time": "2024-12-08T23:14:11.276325Z",
     "start_time": "2024-12-08T23:14:11.272652Z"
    }
   },
   "cell_type": "code",
   "source": [
    "menu = {\"Груминг\", \"Прогулка\", \"Игры\", \"Ветеринарный осмотр\", \"Кормление\"}\n",
    "unavailable_services = {\"Игры\", \"Кормление\"}\n",
    "\n",
    "result =  {'Груминг', 'Прогулка', 'Ветеринарный осмотр'}"
   ],
   "id": "e04c3bd33acd20f3",
   "outputs": [],
   "execution_count": 8
  },
  {
   "metadata": {
    "ExecuteTime": {
     "end_time": "2024-12-08T23:14:23.684952Z",
     "start_time": "2024-12-08T23:14:23.681998Z"
    }
   },
   "cell_type": "code",
   "source": "# Напиши решение тут\n",
   "id": "33800330d03fefcc",
   "outputs": [],
   "execution_count": 9
  },
  {
   "metadata": {},
   "cell_type": "markdown",
   "source": [
    "В отеле для животных вы работаете с информацией, организованной в виде кортежей. Давайте обработаем эти данные:\n",
    "\n",
    "У вас есть кортеж `cat_info`, содержащий информацию о питомце.\n",
    "Используя методы и операции работы с кортежами:\n",
    "\n",
    "- Проверьте, есть ли в кортеже имя кота, равное 'Barsik'.\n",
    "- Разделите кортеж на две части: информация о владельце (первые два элемента) и информация о питомце (оставшиеся элементы)."
   ],
   "id": "33beb1a562823b0c"
  },
  {
   "metadata": {
    "ExecuteTime": {
     "end_time": "2024-12-09T11:45:48.104653Z",
     "start_time": "2024-12-09T11:45:48.100620Z"
    }
   },
   "cell_type": "code",
   "source": [
    "cat_info = (\"Alexei\", \"Barsik\", 3, True)\n",
    "hotel_cats = [\n",
    "    (\"Alexei\", \"Barsik\", 3, True),\n",
    "    (\"Maria\", \"Murka\", 5, False),\n",
    "    (\"Ivan\", \"Snejok\", 2, True)\n",
    "]\n"
   ],
   "id": "e03e3edbb0428c6b",
   "outputs": [],
   "execution_count": 1
  },
  {
   "metadata": {
    "ExecuteTime": {
     "end_time": "2024-12-09T11:45:48.118863Z",
     "start_time": "2024-12-09T11:45:48.115954Z"
    }
   },
   "cell_type": "code",
   "source": "# Напиши решение тут\n",
   "id": "251da2042c765254",
   "outputs": [],
   "execution_count": 2
  },
  {
   "metadata": {},
   "cell_type": "markdown",
   "source": [
    "В словаре `guest` хранятся имя владельца животного и список расходов на услуги отеля для его питомца (например, за питание, прогулки и уход).\n",
    "\n",
    "Создайте новый словарь `result`, в котором будет имя владельца и самый высокий расход из списка."
   ],
   "id": "9c44b7136aa33652"
  },
  {
   "metadata": {
    "ExecuteTime": {
     "end_time": "2024-12-09T11:51:22.558070Z",
     "start_time": "2024-12-09T11:51:22.555359Z"
    }
   },
   "cell_type": "code",
   "source": [
    "guest = {\n",
    "    \"owner_name\": \"Maria\",\n",
    "    \"expenses\": [120, 200, 150, 300, 250]\n",
    "}"
   ],
   "id": "84e9c57e8b6fc471",
   "outputs": [],
   "execution_count": 3
  },
  {
   "metadata": {
    "ExecuteTime": {
     "end_time": "2024-12-09T11:51:26.990501Z",
     "start_time": "2024-12-09T11:51:26.988083Z"
    }
   },
   "cell_type": "code",
   "source": "# Напиши решение тут\n",
   "id": "2fc79f115442b3fd",
   "outputs": [],
   "execution_count": 4
  },
  {
   "metadata": {},
   "cell_type": "code",
   "outputs": [],
   "execution_count": null,
   "source": "",
   "id": "3ed6255f96bec25a"
  }
 ],
 "metadata": {
  "kernelspec": {
   "display_name": "Python 3",
   "language": "python",
   "name": "python3"
  },
  "language_info": {
   "codemirror_mode": {
    "name": "ipython",
    "version": 2
   },
   "file_extension": ".py",
   "mimetype": "text/x-python",
   "name": "python",
   "nbconvert_exporter": "python",
   "pygments_lexer": "ipython2",
   "version": "2.7.6"
  }
 },
 "nbformat": 4,
 "nbformat_minor": 5
}
