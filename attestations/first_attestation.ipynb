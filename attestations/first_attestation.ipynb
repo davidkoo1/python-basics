{
 "cells": [
  {
   "cell_type": "markdown",
   "id": "1453fbd5e471a5cd",
   "metadata": {},
   "source": [
    "# Аттестация №1"
   ]
  },
  {
   "cell_type": "markdown",
   "id": "1db49e463da46021",
   "metadata": {},
   "source": [
    "### Задание №1\n",
    "Напишите программу, которая принимает словарь `input_dict` и возвращает строку вида: `ключ=значение&ключ=значение`\n",
    "\n",
    "Строка должна быть лексикографически отсортирована по ключам исходного словаря. Сохраните полученный ответ в `result`."
   ]
  },
  {
   "cell_type": "code",
   "execution_count": 7,
   "id": "initial_id",
   "metadata": {
    "ExecuteTime": {
     "end_time": "2024-12-09T13:15:08.317204Z",
     "start_time": "2024-12-09T13:15:08.313520Z"
    },
    "collapsed": true
   },
   "outputs": [],
   "source": [
    "input_dict = {'lesson': 2, 'task': 4, 'course': 'python'}\n",
    "#result = 'course=python&lesson=2&task=4'"
   ]
  },
  {
   "cell_type": "code",
   "execution_count": 23,
   "id": "4025e26c2e18bc2f",
   "metadata": {},
   "outputs": [
    {
     "name": "stdout",
     "output_type": "stream",
     "text": [
      "course=python&lesson=2&task=4\n"
     ]
    }
   ],
   "source": [
    "result = \"&\".join(f\"{key}={value}\" for key, value in sorted(input_dict.items()))\n",
    "\n",
    "print(result)\n"
   ]
  },
  {
   "cell_type": "markdown",
   "id": "782b3120fa932c5d",
   "metadata": {},
   "source": [
    "### Задание №2\n",
    "Напишите программу, которая будет принимать число n и проверять, кратна ли каждая его цифра цифре, стоящей слева от нее. Ответ сохраните в `result` в виде массива булевых значений результатов проверок.\n",
    "\n",
    "`result` всегда должен начинаться с False, так как слева от первой цифры ничего нет.\n",
    "\n",
    "Пример:\n",
    "```python\n",
    "n = 462825624\n",
    "result = [False, False, False, True, False, False, False, False, True]\n",
    "```"
   ]
  },
  {
   "cell_type": "code",
   "execution_count": 24,
   "id": "657f2f13cbfa3383",
   "metadata": {
    "ExecuteTime": {
     "end_time": "2024-12-17T21:00:28.477188Z",
     "start_time": "2024-12-17T21:00:28.475122Z"
    }
   },
   "outputs": [
    {
     "name": "stdout",
     "output_type": "stream",
     "text": [
      "[False, False, False, True, False, False, False, False, True]\n"
     ]
    }
   ],
   "source": [
    "n = 462825624\n",
    "\n",
    "n_str = str(n)\n",
    "\n",
    "result = [False]\n",
    "\n",
    "for i in range(1, len(n_str)):\n",
    "    prev_digit = int(n_str[i - 1])\n",
    "    current_digit = int(n_str[i])\n",
    "    if prev_digit != 0 and current_digit % prev_digit == 0:\n",
    "        result.append(True)\n",
    "    else:\n",
    "        result.append(False)\n",
    "\n",
    "print(result)"
   ]
  },
  {
   "cell_type": "markdown",
   "id": "68f16e7b8c3ee89b",
   "metadata": {},
   "source": [
    "### Задание №3\n",
    "Напишите программу, которая анализирует введенный текст и возвращает статистику. Требуется реализовать **несколько функций**, каждая из которых будет выполнять определенную задачу.\n",
    "\n",
    "---\n",
    "\n",
    "**Остановимся более подробно:**\n",
    "1. Напишите функцию **`count_letters(text)`**, которая возвращает количество букв (только латиницы и кириллицы) в тексте.\n",
    "2. Напишите функцию **`count_digits(text)`**, которая возвращает количество цифр.\n",
    "3. Напишите функцию **`count_words(text)`**, которая возвращает количество слов. Слово — это последовательность букв.\n",
    "4. Напишите функцию **`analyze_text(text)`**, которая вызывает все вышеперечисленные функции и возвращает общий результат в виде словаря:\n",
    "   ```python\n",
    "   {\n",
    "       \"letters\": <количество букв>,\n",
    "       \"digits\": <количество цифр>,\n",
    "       \"words\": <количество слов>\n",
    "   }\n",
    "   ```\n",
    "5. Выведите результат работы функции **`analyze_text`** для введенной строки.\n",
    "\n",
    "\n",
    "**Пример работы программы:**\n",
    "\n",
    "Ввод:\n",
    "```\n",
    "Введите текст: Привет, это тестовый текст 123, с 7 словами!\n",
    "```\n",
    "\n",
    "Вывод:\n",
    "```\n",
    "Анализ текста:\n",
    "Количество букв: 24\n",
    "Количество цифр: 4\n",
    "Количество слов: 7\n",
    "```\n",
    "\n",
    "\n",
    "\n"
   ]
  },
  {
   "cell_type": "code",
   "execution_count": 25,
   "id": "dc3147cbb4f8da7c",
   "metadata": {},
   "outputs": [
    {
     "name": "stdout",
     "output_type": "stream",
     "text": [
      "\n",
      "Анализ текста:\n",
      "Количество букв: 4\n",
      "Количество цифр: 0\n",
      "Количество слов: 1\n"
     ]
    }
   ],
   "source": [
    "import re\n",
    "\n",
    "def count_letters(text):\n",
    "    \"\"\"Возвращает количество букв (латиницы и кириллицы) в тексте.\"\"\"\n",
    "    return len(re.findall(r'[a-zA-Zа-яА-Я]', text))\n",
    "\n",
    "def count_digits(text):\n",
    "    \"\"\"Возвращает количество цифр в тексте.\"\"\"\n",
    "    return len(re.findall(r'\\d', text))\n",
    "\n",
    "def count_words(text):\n",
    "    \"\"\"Возвращает количество слов в тексте.\"\"\"\n",
    "    return len(re.findall(r'[a-zA-Zа-яА-Я]+', text))\n",
    "\n",
    "def analyze_text(text):\n",
    "    \"\"\"Анализирует текст и возвращает статистику в виде словаря.\"\"\"\n",
    "    return {\n",
    "        \"letters\": count_letters(text),\n",
    "        \"digits\": count_digits(text),\n",
    "        \"words\": count_words(text)\n",
    "    }\n",
    "\n",
    "text = input(\"Введите текст: \")\n",
    "result = analyze_text(text)\n",
    "\n",
    "print(\"\\nАнализ текста:\")\n",
    "print(f\"Количество букв: {result['letters']}\")\n",
    "print(f\"Количество цифр: {result['digits']}\")\n",
    "print(f\"Количество слов: {result['words']}\")"
   ]
  },
  {
   "cell_type": "markdown",
   "id": "9b4c0041c65b1ef2",
   "metadata": {},
   "source": [
    "### Задача: Распределение учеников по факультетам Хогвартса\n",
    "\n",
    "В Хогвартсе проходит церемония распределения первокурсников. На основании качеств, которые видит распределяющая шляпа, учеников зачисляют на один из факультетов:  \n",
    "\n",
    "- **Гриффиндор**: отвага, доброта, решительность.  \n",
    "- **Пуффендуй**: усердие, дружелюбие, терпимость.  \n",
    "- **Когтевран**: знание, изобретательность, рассудительность.  \n",
    "- **Слизерин**: амбиции, находчивость, целеустремленность.  \n",
    "\n",
    "Необходимо реализовать функцию `sorting_hat()`, которая принимает словарь с учениками, где:  \n",
    "- **Ключ** — имя ученика.  \n",
    "- **Значение** — качество, определяющее его факультет.  \n",
    "\n",
    "Функция должна вернуть два результата:  \n",
    "\n",
    "1. **sorted_students** — словарь, где ключ — имя ученика, а значение — факультет, на который он зачислен.  \n",
    "   - Данные должны быть отсортированы по названию факультета, а затем по имени ученика.  \n",
    "\n",
    "2. **departments** — словарь, где ключ — факультет, а значение — количество зачисленных учеников.  \n",
    "   - Данные должны быть отсортированы по названию факультета.  \n",
    "\n",
    "### Пример входных данных:  \n",
    "```python\n",
    "new_students = {\n",
    "    'Сириус Блэк': 'отвага',\n",
    "    'Аманда Коршун': 'знание',\n",
    "    'Пенелопа Вулпинголд': 'находчивость',\n",
    "    'Артур Поттер': 'отвага',\n",
    "    'Тесая Блэк': 'изобретательность'\n",
    "}\n",
    "```\n",
    "\n",
    "### Пример результата:  \n",
    "```python\n",
    "# sorted_students:\n",
    "{\n",
    "    'Артур Поттер': 'Гриффиндор',\n",
    "    'Сириус Блэк': 'Гриффиндор',\n",
    "    'Аманда Коршун': 'Когтевран',\n",
    "    'Тесая Блэк': 'Когтевран',\n",
    "    'Пенелопа Вулпинголд': 'Слизерин'\n",
    "}\n",
    "\n",
    "# departments:\n",
    "{\n",
    "    'Гриффиндор': 2,\n",
    "    'Когтевран': 2,\n",
    "    'Пуффендуй': 0,\n",
    "    'Слизерин': 1\n",
    "}\n",
    "```"
   ]
  },
  {
   "cell_type": "code",
   "execution_count": 26,
   "id": "4385d4b355c7121f",
   "metadata": {},
   "outputs": [
    {
     "name": "stdout",
     "output_type": "stream",
     "text": [
      "# sorted_students:\n",
      "{'Артур Поттер': 'Гриффиндор', 'Сириус Блэк': 'Гриффиндор', 'Аманда Коршун': 'Когтевран', 'Тесая Блэк': 'Когтевран', 'Пенелопа Вулпинголд': 'Слизерин'}\n",
      "\n",
      "# departments:\n",
      "{'Гриффиндор': 2, 'Когтевран': 2, 'Пуффендуй': 0, 'Слизерин': 1}\n"
     ]
    }
   ],
   "source": [
    "def sorting_hat(new_students):\n",
    "    faculties = {\n",
    "        'Гриффиндор': ['отвага', 'доброта', 'решительность'],\n",
    "        'Пуффендуй': ['усердие', 'дружелюбие', 'терпимость'],\n",
    "        'Когтевран': ['знание', 'изобретательность', 'рассудительность'],\n",
    "        'Слизерин': ['амбиции', 'находчивость', 'целесообразность']\n",
    "    }\n",
    "\n",
    "    sorted_students = {student: faculty for student, quality in new_students.items() \n",
    "                       for faculty, qualities in faculties.items() if quality in qualities}\n",
    "\n",
    "    departments = {faculty: sum(1 for f in sorted_students.values() if f == faculty) \n",
    "                   for faculty in faculties}\n",
    "\n",
    "    sorted_students = dict(sorted(sorted_students.items(), key=lambda x: (x[1], x[0])))\n",
    "    departments = dict(sorted(departments.items()))\n",
    "\n",
    "    return sorted_students, departments\n",
    "\n",
    "new_students = {\n",
    "    'Сириус Блэк': 'отвага',\n",
    "    'Аманда Коршун': 'знание',\n",
    "    'Пенелопа Вулпинголд': 'находчивость',\n",
    "    'Артур Поттер': 'отвага',\n",
    "    'Тесая Блэк': 'изобретательность'\n",
    "}\n",
    "\n",
    "sorted_students, departments = sorting_hat(new_students)\n",
    "\n",
    "print(\"# sorted_students:\")\n",
    "print(sorted_students)\n",
    "\n",
    "print(\"\\n# departments:\")\n",
    "print(departments)"
   ]
  },
  {
   "cell_type": "markdown",
   "id": "ac789ebd9aa897d9",
   "metadata": {},
   "source": [
    "### Задание №5\n",
    "В `my_string`  хранится зашифрованная строка, например:\n",
    "```python\n",
    "# Зашифрованная строка\n",
    "my_string = 'sccfxpzijc is fuc bcd sxcizicg'\n",
    "```\n",
    "В словаре `secret_dict`  хранится ключ к шифру, набор символов, которые нужно заменить:\n",
    "```python\n",
    "# Словарь шифра\n",
    "\n",
    "secret_dict = {\n",
    "'v': 'w',\n",
    "'x': 'y',\n",
    "'i': 'h',\n",
    "'q': 'l',\n",
    "'c': 'n',\n",
    "'o': 'm',\n",
    "'b': 'a',\n",
    "'f': 'r',\n",
    "'j': 'o',\n",
    "'s': 'e',\n",
    "'z': 't',\n",
    "'g': 'k',\n",
    "'l': ' ',\n",
    "'k': 'c',\n",
    "'m': 'p',\n",
    "'n': 'i',\n",
    "'w': 's',\n",
    "'d': 'f',\n",
    "'u': 'u',\n",
    "'r': 'd',\n",
    "'e': 'x',\n",
    "'y': 'g'}\n",
    "```\n",
    "Таким образом, словарь `secret_dict` говорит нам, что в строке `my_string` букву `v` нужно заменить на `m`, `s` на 'e' и т. д. Если мы сделаем такие замены в строке my_string, то `sckfxmznjclnwlduclbcrlseknzncy` превратится в `encryption is fun and exciting`.\n",
    "\n",
    "Напишите программу, которая расшифровывает строку `my_string = 'nlbolyjccblyszlblzsclnclmxzijc'` при помощи словаря secret_dict. Расшифрованную строку сохраните в переменную decrypted_string."
   ]
  },
  {
   "cell_type": "code",
   "execution_count": 27,
   "id": "48c201ee026f8ae5",
   "metadata": {
    "ExecuteTime": {
     "end_time": "2024-12-17T20:56:24.178896Z",
     "start_time": "2024-12-17T20:56:24.175887Z"
    }
   },
   "outputs": [
    {
     "name": "stdout",
     "output_type": "stream",
     "text": [
      "i am gonna get a ten in python\n"
     ]
    }
   ],
   "source": [
    "\n",
    "my_string = 'nlbolyjccblyszlblzsclnclmxzijc'\n",
    "\n",
    "secret_dict = {\n",
    "    'v': 'w',\n",
    "    'x': 'y',\n",
    "    'i': 'h',\n",
    "    'q': 'l',\n",
    "    'c': 'n',\n",
    "    'o': 'm',\n",
    "    'b': 'a',\n",
    "    'f': 'r',\n",
    "    'j': 'o',\n",
    "    's': 'e',\n",
    "    'z': 't',\n",
    "    'g': 'k',\n",
    "    'l': ' ',\n",
    "    'k': 'c',\n",
    "    'm': 'p',\n",
    "    'n': 'i',\n",
    "    'w': 's',\n",
    "    'd': 'f',\n",
    "    'u': 'u',\n",
    "    'r': 'd',\n",
    "    'e': 'x',\n",
    "    'y': 'g'\n",
    "}\n",
    "\n",
    "decrypted_string = ''.join(secret_dict.get(char, char) for char in my_string)\n",
    "\n",
    "print(decrypted_string)\n"
   ]
  }
 ],
 "metadata": {
  "kernelspec": {
   "display_name": "Python 3",
   "language": "python",
   "name": "python3"
  },
  "language_info": {
   "codemirror_mode": {
    "name": "ipython",
    "version": 3
   },
   "file_extension": ".py",
   "mimetype": "text/x-python",
   "name": "python",
   "nbconvert_exporter": "python",
   "pygments_lexer": "ipython3",
   "version": "3.12.6"
  }
 },
 "nbformat": 4,
 "nbformat_minor": 5
}
