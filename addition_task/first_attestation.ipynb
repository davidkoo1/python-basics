{
 "cells": [
  {
   "metadata": {},
   "cell_type": "markdown",
   "source": "# Аттетсация №1",
   "id": "1453fbd5e471a5cd"
  },
  {
   "metadata": {},
   "cell_type": "markdown",
   "source": [
    "Напишите программу, которая принимает словарь `input_dict` и возвращает строку вида: `ключ=значение&ключ=значение`\n",
    "\n",
    "Строка должна быть лексикографически отсортирована по ключам исходного словаря. Сохраните полученный ответ в `result`."
   ],
   "id": "1db49e463da46021"
  },
  {
   "cell_type": "code",
   "id": "initial_id",
   "metadata": {
    "collapsed": true,
    "ExecuteTime": {
     "end_time": "2024-12-09T13:15:08.317204Z",
     "start_time": "2024-12-09T13:15:08.313520Z"
    }
   },
   "source": [
    "input_dict = {'lesson': 2, 'task': 4, 'course': 'python'}\n",
    "result = 'course=python&lesson=2&task=4'"
   ],
   "outputs": [],
   "execution_count": 1
  },
  {
   "metadata": {},
   "cell_type": "code",
   "outputs": [],
   "execution_count": null,
   "source": "# Напиши решение тут",
   "id": "4025e26c2e18bc2f"
  },
  {
   "metadata": {},
   "cell_type": "markdown",
   "source": [
    "В Хогвартсе начинается новый учебный год, идет церемония распределения. На голову каждого нового ученика надевают распределяющую шляпу. В зависимости от качеств, которые шляпа увидит в ребенке, он будет зачислен на соответствующий факультет:\n",
    "\n",
    "- Гриффиндор — храбрость, благородство, честь;\n",
    "- Пуффендуй — трудолюбие, верность, честность;\n",
    "- Когтевран — ум, любознательность, творчество;\n",
    "- Слизерин — хитрость, амбициозность, находчивость.\n",
    "\n",
    "Напишите функцию sorting_hat(), которая в качестве аргумента будет принимать словарь вида:\n",
    "\n",
    "- new_students = {‘Сириус Блэк’: ‘храбрость’}, где ключ — имя ученика, значение — качество, которым он обладает.\n",
    "\n",
    "Функция должна вернуть 2 переменные:\n",
    "\n",
    "- sorted_students — словарь вида: ключ — имя ученика, значение — факультет, на который он был зачислен. Данные в словаре должны быть отсортированы по названию факультета и по имени ученика.\n",
    "\n",
    "- department — словарь вида: ключ - факультет, значение — количество зачисленных на него учеников. Отсортируйте словарь по ключу."
   ],
   "id": "9b4c0041c65b1ef2"
  },
  {
   "metadata": {},
   "cell_type": "code",
   "outputs": [],
   "execution_count": null,
   "source": [
    "def sorting_hat(new_students):\n",
    "    pass\n",
    "    # return sorted_students, departments\n",
    "\n",
    "new_students = {'Сириус Блэк': 'храбрость', 'Аманда Коршун': 'любознательность',\n",
    "                'Пенелопа Вулпинголд': 'находчивость', 'Артур Поттер': 'храбрость', 'Тесая Блэк': 'ум'}\n",
    "sorting_hat(new_students) # ->\n",
    "# sorted_students = {'Артур Поттер': 'Гриффиндор', 'Сириус Блэк': 'Гриффиндор', 'Аманда Коршун': 'Когтевран',\n",
    "#                    'Тесая Блэк': 'Когтевран', 'Пенелопа Вулпинголд': 'Слизерин'}\n",
    "# departments = {'Гриффиндор': 2, 'Когтевран': 2, 'Пуффендуй': 0, 'Слизерин': 1}"
   ],
   "id": "ce8a7196259296d0"
  },
  {
   "metadata": {},
   "cell_type": "code",
   "outputs": [],
   "execution_count": null,
   "source": "# Напиши решение тут",
   "id": "4385d4b355c7121f"
  },
  {
   "metadata": {},
   "cell_type": "markdown",
   "source": "",
   "id": "567bad668468cc33"
  },
  {
   "metadata": {},
   "cell_type": "code",
   "outputs": [],
   "execution_count": null,
   "source": "",
   "id": "a9e65532644c844"
  },
  {
   "metadata": {
    "ExecuteTime": {
     "end_time": "2024-12-09T15:11:47.844681Z",
     "start_time": "2024-12-09T15:11:47.840056Z"
    }
   },
   "cell_type": "code",
   "source": [
    "s = \"Hello, World!\"\n",
    "print(s[::2])  # \"Hoo ol!\" — каждый второй символ"
   ],
   "id": "e8e0d1515d0a4069",
   "outputs": [
    {
     "name": "stdout",
     "output_type": "stream",
     "text": [
      "Hlo ol!\n"
     ]
    }
   ],
   "execution_count": 2
  },
  {
   "metadata": {
    "ExecuteTime": {
     "end_time": "2024-12-09T15:44:41.635787Z",
     "start_time": "2024-12-09T15:44:41.631930Z"
    }
   },
   "cell_type": "code",
   "source": [
    "# Лямбда-функция внутри функции map\n",
    "print(list(map(lambda x: x ** 2, [1, 2, 3, 4])))  # [1, 4, 9, 16]"
   ],
   "id": "b59453acee8c014a",
   "outputs": [
    {
     "name": "stdout",
     "output_type": "stream",
     "text": [
      "[1, 4, 9, 16]\n"
     ]
    }
   ],
   "execution_count": 3
  },
  {
   "metadata": {},
   "cell_type": "code",
   "outputs": [],
   "execution_count": null,
   "source": "",
   "id": "fd550e69636aa036"
  }
 ],
 "metadata": {
  "kernelspec": {
   "display_name": "Python 3",
   "language": "python",
   "name": "python3"
  },
  "language_info": {
   "codemirror_mode": {
    "name": "ipython",
    "version": 2
   },
   "file_extension": ".py",
   "mimetype": "text/x-python",
   "name": "python",
   "nbconvert_exporter": "python",
   "pygments_lexer": "ipython2",
   "version": "2.7.6"
  }
 },
 "nbformat": 4,
 "nbformat_minor": 5
}
