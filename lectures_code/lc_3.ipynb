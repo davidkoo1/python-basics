{
 "cells": [
  {
   "cell_type": "markdown",
   "source": [
    "В базе данных МАИ информация о студентах и кафедрах, к которым они прикреплены, хранится в словаре kaf_students в формате: \n",
    "ключ — ФИ студента\n",
    "значение — код кафедры. \n",
    "\n",
    "После второго курса по итогам последних двух сессий был составлен рейтинг студентов, на основе которого произошло перераспределение студентов по кафедрам. Часть студентов продолжила обучение на своей кафедре, а некоторые студенты перешли с одной кафедры на другую. Информация о студентах, перешедших на новую кафедру, хранится в словаре new_kaf_students. \n",
    "\n",
    "Обновите информацию в словаре kaf_students, добавив в словарь данные из new_kaf_students."
   ],
   "metadata": {
    "collapsed": false
   },
   "id": "ba99780bf3026602"
  },
  {
   "cell_type": "markdown",
   "source": [
    "Пример:"
   ],
   "metadata": {
    "collapsed": false
   },
   "id": "7686440bce57f98b"
  },
  {
   "cell_type": "code",
   "execution_count": 1,
   "id": "initial_id",
   "metadata": {
    "collapsed": true,
    "ExecuteTime": {
     "end_time": "2024-11-16T12:35:10.315329400Z",
     "start_time": "2024-11-16T12:35:10.312807700Z"
    }
   },
   "outputs": [],
   "source": [
    "kaf_students  = {'Карпов Анатолий Дмитриевич': 100}\n",
    "new_kaf_students =  {'Иванчей Иван Иванович': 200}\n",
    "\n",
    "kaf_students = {'Карпов Анатолий Дмитриевич': 100, 'Иванчей Иван Иванович': 200}"
   ]
  },
  {
   "cell_type": "code",
   "execution_count": 1,
   "outputs": [],
   "source": [],
   "metadata": {
    "collapsed": false,
    "ExecuteTime": {
     "end_time": "2024-11-16T12:35:10.686158300Z",
     "start_time": "2024-11-16T12:35:10.678151400Z"
    }
   },
   "id": "bd8548792224f1ed"
  },
  {
   "cell_type": "markdown",
   "source": [
    "Имеется словарь courses, содержащий информацию о стоимости обучения в университете в формате:\n",
    "ключ — название курса\n",
    "значение — стоимость обучения\n",
    "\n",
    "Найдите цену самого дорогого курса. Результат сохраните в result. "
   ],
   "metadata": {
    "collapsed": false
   },
   "id": "c1f397e60c5d7e1c"
  },
  {
   "cell_type": "markdown",
   "source": [
    "Пример:"
   ],
   "metadata": {
    "collapsed": false
   },
   "id": "559d6488394b82e9"
  },
  {
   "cell_type": "code",
   "execution_count": 2,
   "outputs": [],
   "source": [
    "courses = {\"Informatica\": 8000, \"Informatica Aplicata\": 10000}\n",
    "result = 10000"
   ],
   "metadata": {
    "collapsed": false,
    "ExecuteTime": {
     "end_time": "2024-11-16T12:36:17.533587800Z",
     "start_time": "2024-11-16T12:36:17.520057600Z"
    }
   },
   "id": "4b1ba459ddc97952"
  },
  {
   "cell_type": "code",
   "execution_count": 2,
   "outputs": [],
   "source": [],
   "metadata": {
    "collapsed": false,
    "ExecuteTime": {
     "end_time": "2024-11-16T12:36:19.208556300Z",
     "start_time": "2024-11-16T12:36:19.194492100Z"
    }
   },
   "id": "fed05c12dba0317d"
  },
  {
   "cell_type": "markdown",
   "source": [
    "Магазин ВкуссЧилл хранит информацию о имеющихся в наличии фруктах и овощах в словаре input_dict в формате ключ — название фрукта или овоща, значение — количество килограмм в наличии. Посчитайте, сколько всего килограммов фруктов и овощей имеется в магазине. Результат сохраните в переменную result.  "
   ],
   "metadata": {
    "collapsed": false
   },
   "id": "41e880beb0805494"
  },
  {
   "cell_type": "markdown",
   "source": [
    "Пример:"
   ],
   "metadata": {
    "collapsed": false
   },
   "id": "fc6c26137943dd47"
  },
  {
   "cell_type": "code",
   "execution_count": 3,
   "outputs": [],
   "source": [
    "input_dict = {\"морковь\": 10.44, \"капуста\": 5.06, \"клубника\": 3}\n",
    "\n",
    "result = 18.5"
   ],
   "metadata": {
    "collapsed": false,
    "ExecuteTime": {
     "end_time": "2024-11-16T12:36:49.195996300Z",
     "start_time": "2024-11-16T12:36:49.188972300Z"
    }
   },
   "id": "be7c730936603183"
  },
  {
   "cell_type": "code",
   "execution_count": null,
   "outputs": [],
   "source": [],
   "metadata": {
    "collapsed": false
   },
   "id": "a4255b2adeaaa02f"
  },
  {
   "cell_type": "markdown",
   "source": [
    "У вас есть кортеж с числами. Посчитайте, сколько в сумме все числа в кортеже."
   ],
   "metadata": {
    "collapsed": false
   },
   "id": "b2d18d07f6951803"
  },
  {
   "cell_type": "markdown",
   "source": [
    "Пример:"
   ],
   "metadata": {
    "collapsed": false
   },
   "id": "b865ccb0d93dd6b0"
  },
  {
   "cell_type": "code",
   "execution_count": 4,
   "outputs": [],
   "source": [
    "numbers = (5, 10, 15, 20)\n",
    "\n",
    "result = 50  # Сумма всех чисел в кортеже\n"
   ],
   "metadata": {
    "collapsed": false,
    "ExecuteTime": {
     "end_time": "2024-11-16T12:38:52.605581300Z",
     "start_time": "2024-11-16T12:38:52.597557600Z"
    }
   },
   "id": "41818dfa1b73e0ad"
  },
  {
   "cell_type": "code",
   "execution_count": null,
   "outputs": [],
   "source": [],
   "metadata": {
    "collapsed": false
   },
   "id": "7f0f7fa92731d1c9"
  },
  {
   "cell_type": "markdown",
   "source": [
    "У вас есть кортеж с числами. Найдите среднее значение всех чисел в кортеже."
   ],
   "metadata": {
    "collapsed": false
   },
   "id": "f023cf8185a73d3e"
  },
  {
   "cell_type": "markdown",
   "source": [
    "Пример"
   ],
   "metadata": {
    "collapsed": false
   },
   "id": "ddc0d1fc329e6225"
  },
  {
   "cell_type": "code",
   "execution_count": 5,
   "outputs": [],
   "source": [
    "scores = (4, 7, 9, 10)\n",
    "\n",
    "result = 7.5  # Среднее значение\n"
   ],
   "metadata": {
    "collapsed": false,
    "ExecuteTime": {
     "end_time": "2024-11-16T12:39:08.154937800Z",
     "start_time": "2024-11-16T12:39:08.145925400Z"
    }
   },
   "id": "18e8fa1ae469469c"
  },
  {
   "cell_type": "code",
   "execution_count": null,
   "outputs": [],
   "source": [],
   "metadata": {
    "collapsed": false
   },
   "id": "740f5bd6056eca37"
  }
 ],
 "metadata": {
  "kernelspec": {
   "display_name": "Python 3",
   "language": "python",
   "name": "python3"
  },
  "language_info": {
   "codemirror_mode": {
    "name": "ipython",
    "version": 2
   },
   "file_extension": ".py",
   "mimetype": "text/x-python",
   "name": "python",
   "nbconvert_exporter": "python",
   "pygments_lexer": "ipython2",
   "version": "2.7.6"
  }
 },
 "nbformat": 4,
 "nbformat_minor": 5
}
