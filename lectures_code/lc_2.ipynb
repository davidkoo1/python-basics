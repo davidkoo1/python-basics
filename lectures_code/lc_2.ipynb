{
 "cells": [
  {
   "cell_type": "markdown",
   "source": [
    "## Строки"
   ],
   "metadata": {
    "collapsed": false
   },
   "id": "d8f9d71bdba50c1a"
  },
  {
   "cell_type": "markdown",
   "source": [
    "В переменной а сохранено предложение. Удалите из предложения все вхождения слова или символа b. Результат сохраните в result. "
   ],
   "metadata": {
    "collapsed": false
   },
   "id": "837dac4dede4ab15"
  },
  {
   "cell_type": "markdown",
   "source": [
    "Пример:"
   ],
   "metadata": {
    "collapsed": false
   },
   "id": "47d2fb18bf0a2dbf"
  },
  {
   "cell_type": "code",
   "execution_count": 7,
   "outputs": [],
   "source": [
    "a = 'Я помню чудное мгновенье'\n",
    "b = 'о'\n",
    "result = 'Я пмню чудне мгнвенье'"
   ],
   "metadata": {
    "collapsed": false,
    "ExecuteTime": {
     "end_time": "2024-11-16T11:45:20.720657600Z",
     "start_time": "2024-11-16T11:45:20.714634400Z"
    }
   },
   "id": "9f0af7c616095abd"
  },
  {
   "cell_type": "code",
   "execution_count": 7,
   "id": "initial_id",
   "metadata": {
    "collapsed": true,
    "ExecuteTime": {
     "end_time": "2024-11-16T11:45:21.065899700Z",
     "start_time": "2024-11-16T11:45:21.062889600Z"
    }
   },
   "outputs": [],
   "source": []
  },
  {
   "cell_type": "markdown",
   "source": [
    "Напишите программу, которая будет принимать номер кредитной карты card и возвращать номер карты, в котором будут видны только последние 4 цифры. Остальные цифры должны заменяться звездочками. Результат сохраните в result."
   ],
   "metadata": {
    "collapsed": false
   },
   "id": "36b11ee488e0dbaa"
  },
  {
   "cell_type": "markdown",
   "source": [
    "Пример:"
   ],
   "metadata": {
    "collapsed": false
   },
   "id": "2439b1d43907c901"
  },
  {
   "cell_type": "code",
   "execution_count": 8,
   "outputs": [],
   "source": [
    "card = '5468350018455833'\n",
    "result = '************5833'"
   ],
   "metadata": {
    "collapsed": false,
    "ExecuteTime": {
     "end_time": "2024-11-16T11:45:22.149737700Z",
     "start_time": "2024-11-16T11:45:22.142717200Z"
    }
   },
   "id": "82f417e0185341a4"
  },
  {
   "cell_type": "code",
   "execution_count": 8,
   "outputs": [],
   "source": [],
   "metadata": {
    "collapsed": false,
    "ExecuteTime": {
     "end_time": "2024-11-16T11:45:22.467508500Z",
     "start_time": "2024-11-16T11:45:22.464495900Z"
    }
   },
   "id": "8f38054592a33450"
  },
  {
   "cell_type": "markdown",
   "source": [
    "Посчитайте, сколько раз в предложении x встречается строка y. Результат сохраните в переменную result. "
   ],
   "metadata": {
    "collapsed": false
   },
   "id": "8ca0bc186c872a34"
  },
  {
   "cell_type": "markdown",
   "source": [
    "Пример:"
   ],
   "metadata": {
    "collapsed": false
   },
   "id": "440d14490798453c"
  },
  {
   "cell_type": "code",
   "execution_count": 9,
   "outputs": [],
   "source": [
    "x = 'На подоконнике в гостиной у бабушки росли цветы, цветы были красные и желтые, очень красивые цветы.'\n",
    "y = 'цветы'\n",
    "result = 3"
   ],
   "metadata": {
    "collapsed": false,
    "ExecuteTime": {
     "end_time": "2024-11-16T11:45:23.848830700Z",
     "start_time": "2024-11-16T11:45:23.841804Z"
    }
   },
   "id": "c8fd22971ca01604"
  },
  {
   "cell_type": "code",
   "execution_count": 9,
   "outputs": [],
   "source": [],
   "metadata": {
    "collapsed": false,
    "ExecuteTime": {
     "end_time": "2024-11-16T11:45:25.026922200Z",
     "start_time": "2024-11-16T11:45:25.012899500Z"
    }
   },
   "id": "e6982fa110f4a08c"
  },
  {
   "cell_type": "markdown",
   "source": [
    "## Списки"
   ],
   "metadata": {
    "collapsed": false
   },
   "id": "379ce305f559117c"
  },
  {
   "cell_type": "markdown",
   "source": [
    "В student_names сохранен список с именами студентов, добавьте в список два имени 'Anatoly' и 'Oksana'.\n",
    "\n",
    "В scores сохранен список из десяти целых чисел, удалите из него второй, пятый и последний элемент из исходного списка. Будьте внимательны, если вы, например, сначала удалите второй элемент, то индекс пятого элемента из сходного списка сместится.\n",
    "\n",
    "В lessons сохранен список с названием уроков, отсортируйте названия уроков в списке по алфавиту. "
   ],
   "metadata": {
    "collapsed": false
   },
   "id": "dd2a5cf5dfd2a200"
  },
  {
   "cell_type": "markdown",
   "source": [
    "Пример:"
   ],
   "metadata": {
    "collapsed": false
   },
   "id": "dd520bee49698afb"
  },
  {
   "cell_type": "code",
   "execution_count": 11,
   "outputs": [],
   "source": [
    "student_names = ['Ian', 'Ivan']\n",
    "scores = [0, 1, 2, 3, 4, 5, 6, 7, 8, 9]\n",
    "lessons = ['Python', 'Analytics']\n",
    "\n",
    "# ===>\n",
    "\n",
    "student_names = ['Ian', 'Ivan', 'Anatoly', 'Oksana']\n",
    "scores = [0, 2, 3, 5, 6, 7, 8]\n",
    "lessons = ['Analytics', 'Python']"
   ],
   "metadata": {
    "collapsed": false,
    "ExecuteTime": {
     "end_time": "2024-11-16T11:46:17.572235700Z",
     "start_time": "2024-11-16T11:46:17.560683500Z"
    }
   },
   "id": "b00ef1574aa7b430"
  },
  {
   "cell_type": "markdown",
   "source": [
    "В переменной my_list сохранен не пустой список, в котором есть число 11. \n",
    "\n",
    "Найдите первый индекс числа 11 в my_list, сохраните индекс в переменную eleven_index.  \n",
    "\n",
    "В переменную ten_count сохраните, сколько раз в списке my_list встречается число 10."
   ],
   "metadata": {
    "collapsed": false
   },
   "id": "e1734c5ca59f5ea7"
  },
  {
   "cell_type": "markdown",
   "source": [
    "Пример:"
   ],
   "metadata": {
    "collapsed": false
   },
   "id": "5aad85d0dc4ca4d8"
  },
  {
   "cell_type": "code",
   "execution_count": 13,
   "outputs": [],
   "source": [
    "my_list = [1, 10, 0, 10, 11]\n",
    "eleven_index = 4\n",
    "ten_count = 2\n",
    "\n",
    "\n",
    "my_list = [11, 2, 0, 6]\n",
    "eleven_index = 0\n",
    "ten_count = 0\n"
   ],
   "metadata": {
    "collapsed": false,
    "ExecuteTime": {
     "end_time": "2024-11-16T11:47:44.232569500Z",
     "start_time": "2024-11-16T11:47:44.225571Z"
    }
   },
   "id": "d5d8f018456a1d43"
  },
  {
   "cell_type": "markdown",
   "source": [
    "## Множества"
   ],
   "metadata": {
    "collapsed": false
   },
   "id": "e53c050353dfab5a"
  },
  {
   "cell_type": "markdown",
   "source": [
    "В переменной menu хранится множество всех позиций меню кофейни, а в переменной stop — множество позиций меню кофейни, недоступных для заказа сегодня. Сохраните в переменную menu_today позиции меню, которые доступны для заказа сегодня.  \n",
    "\n"
   ],
   "metadata": {
    "collapsed": false
   },
   "id": "4205c5ae130060b9"
  },
  {
   "cell_type": "markdown",
   "source": [
    "Пример:"
   ],
   "metadata": {
    "collapsed": false
   },
   "id": "72cdd13470ab275f"
  },
  {
   "cell_type": "code",
   "execution_count": 14,
   "outputs": [],
   "source": [
    "menu = {'White Chocolate Mocha', 'Americano', 'Flat White', 'Latte', \n",
    "        'Blueberry Muffin', 'Chocolate Chip Cookie'}\n",
    "stop = {'White Chocolate Mocha', 'Blueberry Muffin'}\n",
    "\n",
    "menu_today = {'Americano', 'Flat White', 'Latte', 'Chocolate Chip Cookie'}"
   ],
   "metadata": {
    "collapsed": false,
    "ExecuteTime": {
     "end_time": "2024-11-16T11:48:26.325399100Z",
     "start_time": "2024-11-16T11:48:26.313875800Z"
    }
   },
   "id": "62acaf17fa1f4a67"
  },
  {
   "cell_type": "code",
   "execution_count": null,
   "outputs": [],
   "source": [],
   "metadata": {
    "collapsed": false
   },
   "id": "6732a38cdb5a4e1e"
  },
  {
   "cell_type": "markdown",
   "source": [
    "В переменной da_students хранятся имена студентов курса \"Аналитик данных\", а в переменной dv_students — имена студентов курса \"Визуализация данных\". Сохраните в переменную students студентов, которые обучаются на обоих курсах.\n",
    "\n",
    "Порядок элементов в students не имеет значения."
   ],
   "metadata": {
    "collapsed": false
   },
   "id": "27c23affcd73f772"
  },
  {
   "cell_type": "markdown",
   "source": [
    "Пример:"
   ],
   "metadata": {
    "collapsed": false
   },
   "id": "c025a18177b73cb4"
  },
  {
   "cell_type": "code",
   "execution_count": 15,
   "outputs": [],
   "source": [
    "# студенты курса \"Аналитик данных\"\n",
    "da_students = {'Ivanov Alexander', 'Loginov Vladislav', 'Ershova Anna', 'Korneva Daria'}\n",
    "# студенты курса \"Визуализация данных\"\n",
    "dv_students = {'Ershova Anna', 'Egunov Andrey', 'Ignatov Alexey', 'Loginov Vladislav'}\n",
    "\n",
    "# результат\n",
    "students = {'Loginov Vladislav', 'Ershova Anna'}"
   ],
   "metadata": {
    "collapsed": false,
    "ExecuteTime": {
     "end_time": "2024-11-16T11:51:06.059575100Z",
     "start_time": "2024-11-16T11:51:06.039241400Z"
    }
   },
   "id": "1b37b4ecfcc10fff"
  },
  {
   "cell_type": "code",
   "execution_count": null,
   "outputs": [],
   "source": [],
   "metadata": {
    "collapsed": false
   },
   "id": "3ba221944d879aa3"
  }
 ],
 "metadata": {
  "kernelspec": {
   "display_name": "Python 3",
   "language": "python",
   "name": "python3"
  },
  "language_info": {
   "codemirror_mode": {
    "name": "ipython",
    "version": 2
   },
   "file_extension": ".py",
   "mimetype": "text/x-python",
   "name": "python",
   "nbconvert_exporter": "python",
   "pygments_lexer": "ipython2",
   "version": "2.7.6"
  }
 },
 "nbformat": 4,
 "nbformat_minor": 5
}
