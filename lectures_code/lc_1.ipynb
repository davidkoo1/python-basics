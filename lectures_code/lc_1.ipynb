{
 "cells": [
  {
   "cell_type": "markdown",
   "source": [
    "### 1. \n",
    "Заданы вещественные числа a, b и с – стороны треугольника. Вычислите периметр и площадь треугольника. Результат сохраните в переменные perimeter и area соответственно."
   ],
   "metadata": {
    "collapsed": false
   },
   "id": "e15654f810d27554"
  },
  {
   "cell_type": "markdown",
   "source": "![Python for everything](../images/lecture_1/img.png)",
   "metadata": {
    "collapsed": false
   },
   "id": "798339da9fc729a2"
  },
  {
   "cell_type": "code",
   "source": "# Напиши решение тут\n",
   "metadata": {
    "collapsed": false,
    "ExecuteTime": {
     "end_time": "2024-12-08T22:23:15.771658Z",
     "start_time": "2024-12-08T22:23:15.767738Z"
    }
   },
   "id": "da6a913a2cb18ed7",
   "outputs": [],
   "execution_count": 1
  },
  {
   "cell_type": "markdown",
   "source": [
    "### 2.\n",
    "Создайте переменные:\n",
    "\n",
    "a со значением 5 типа int,\n",
    "\n",
    "b со значением \"10\" типа str,\n",
    "\n",
    "c со значением True типа bool.\n",
    "\n",
    "В переменную my_sum сохраните сумму трех переменных, которые вы создали, преобразовав значения переменных b и с к типу int. Сами переменные b и c изменять не надо."
   ],
   "metadata": {
    "collapsed": false
   },
   "id": "2fca3606a6f2a2c4"
  },
  {
   "cell_type": "code",
   "id": "initial_id",
   "metadata": {
    "collapsed": true,
    "ExecuteTime": {
     "end_time": "2024-12-08T22:23:15.813660Z",
     "start_time": "2024-12-08T22:23:15.810147Z"
    }
   },
   "source": "# Напиши решение тут\n",
   "outputs": [],
   "execution_count": 2
  },
  {
   "cell_type": "markdown",
   "source": [
    "### 3. \n",
    "В переменной a сохранено число с десятичной частью но в формате строки, например '3.14'. В переменную с сохраните целую часть из числа в переменной a."
   ],
   "metadata": {
    "collapsed": false
   },
   "id": "644f379e20d32e10"
  },
  {
   "cell_type": "markdown",
   "source": [
    "Пример:"
   ],
   "metadata": {
    "collapsed": false
   },
   "id": "6754faf2cb17d2f"
  },
  {
   "cell_type": "code",
   "execution_count": 1,
   "outputs": [],
   "source": [
    "a = '3.14'\n",
    "c = 3\n",
    "\n",
    "a = '99.9'\n",
    "c = 99\n",
    "\n",
    "a = '0.33'\n",
    "c = 0"
   ],
   "metadata": {
    "collapsed": false,
    "ExecuteTime": {
     "end_time": "2024-11-16T09:24:25.438200400Z",
     "start_time": "2024-11-16T09:24:25.428781700Z"
    }
   },
   "id": "77f4a7a11fab9903"
  },
  {
   "cell_type": "code",
   "source": "# Напиши решение тут\n",
   "metadata": {
    "collapsed": false,
    "ExecuteTime": {
     "end_time": "2024-12-08T22:23:19.582378Z",
     "start_time": "2024-12-08T22:23:19.579408Z"
    }
   },
   "id": "556e5e697596db3",
   "outputs": [],
   "execution_count": 3
  },
  {
   "metadata": {},
   "cell_type": "markdown",
   "source": "y = int(str(x).split('.')[1])",
   "id": "6788cf9539648385"
  },
  {
   "cell_type": "markdown",
   "source": [
    "### 4. \n",
    "В переменной m хранится целое положительное число — продолжительность сна в минутах. Если продолжительность сна составит от 7 до 9 часов включительно, то в переменную optimal_sleep_duration сохраните значение True. В противном случае присвойте этой переменной значение False."
   ],
   "metadata": {
    "collapsed": false
   },
   "id": "bbdf26f5033791b5"
  },
  {
   "cell_type": "markdown",
   "source": [
    "Пример:"
   ],
   "metadata": {
    "collapsed": false
   },
   "id": "913cf13fd2160218"
  },
  {
   "cell_type": "code",
   "execution_count": 2,
   "outputs": [],
   "source": [
    "m = 410  \n",
    "optimal_sleep_duration = False\n",
    "\n",
    "m = 500\n",
    "optimal_sleep_duration = True"
   ],
   "metadata": {
    "collapsed": false,
    "ExecuteTime": {
     "end_time": "2024-11-16T09:25:06.791968Z",
     "start_time": "2024-11-16T09:25:06.782442800Z"
    }
   },
   "id": "2dd0db6d359d40cf"
  },
  {
   "cell_type": "code",
   "source": "# Напиши решение тут",
   "metadata": {
    "collapsed": false,
    "ExecuteTime": {
     "end_time": "2024-12-08T22:23:22.752105Z",
     "start_time": "2024-12-08T22:23:22.749676Z"
    }
   },
   "id": "67ec18a9fd26251a",
   "outputs": [],
   "execution_count": 4
  },
  {
   "metadata": {},
   "cell_type": "markdown",
   "source": "Посчитайте, сколько раз в предложении x встречается строка y. Результат сохраните в переменную result.",
   "id": "ea7c812d8b968a26"
  },
  {
   "metadata": {
    "ExecuteTime": {
     "end_time": "2024-12-08T22:24:03.868586Z",
     "start_time": "2024-12-08T22:24:03.865593Z"
    }
   },
   "cell_type": "code",
   "source": [
    "x = 'На подоконнике в гостиной у бабушки росли цветы, цветы были красные и желтые, очень красивые цветы.'\n",
    "y = 'цветы'\n",
    "result = 3"
   ],
   "id": "32c9471813f0c445",
   "outputs": [],
   "execution_count": 5
  },
  {
   "metadata": {
    "ExecuteTime": {
     "end_time": "2024-12-08T22:24:07.680585Z",
     "start_time": "2024-12-08T22:24:07.678068Z"
    }
   },
   "cell_type": "code",
   "source": "# Напиши решение тут",
   "id": "b0ed964d1c46baab",
   "outputs": [],
   "execution_count": 6
  },
  {
   "metadata": {},
   "cell_type": "code",
   "outputs": [],
   "execution_count": null,
   "source": "result = x.count(y)",
   "id": "d459b618bb8e149"
  }
 ],
 "metadata": {
  "kernelspec": {
   "display_name": "Python 3",
   "language": "python",
   "name": "python3"
  },
  "language_info": {
   "codemirror_mode": {
    "name": "ipython",
    "version": 2
   },
   "file_extension": ".py",
   "mimetype": "text/x-python",
   "name": "python",
   "nbconvert_exporter": "python",
   "pygments_lexer": "ipython2",
   "version": "2.7.6"
  }
 },
 "nbformat": 4,
 "nbformat_minor": 5
}
