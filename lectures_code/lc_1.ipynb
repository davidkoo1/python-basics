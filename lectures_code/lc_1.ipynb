{
 "cells": [
  {
   "cell_type": "markdown",
   "source": [
    "### 1. \n",
    "Заданы вещественные числа a, b и с – стороны треугольника. Вычислите периметр и площадь треугольника. Результат сохраните в переменные perimeter и area соответственно."
   ],
   "metadata": {
    "collapsed": false
   },
   "id": "e15654f810d27554"
  },
  {
   "cell_type": "markdown",
   "source": [
    "![Python for everything](../images/l_1/img_4.png)"
   ],
   "metadata": {
    "collapsed": false
   },
   "id": "798339da9fc729a2"
  },
  {
   "cell_type": "code",
   "execution_count": null,
   "outputs": [],
   "source": [],
   "metadata": {
    "collapsed": false
   },
   "id": "da6a913a2cb18ed7"
  },
  {
   "cell_type": "markdown",
   "source": [
    "### 2.\n",
    "Создайте переменные:\n",
    "\n",
    "a со значением 5 типа int,\n",
    "\n",
    "b со значением \"10\" типа str,\n",
    "\n",
    "c со значением True типа bool.\n",
    "\n",
    "В переменную my_sum сохраните сумму трех переменных, которые вы создали, преобразовав значения переменных b и с к типу int. Сами переменные b и c изменять не надо."
   ],
   "metadata": {
    "collapsed": false
   },
   "id": "2fca3606a6f2a2c4"
  },
  {
   "cell_type": "code",
   "execution_count": null,
   "id": "initial_id",
   "metadata": {
    "collapsed": true
   },
   "outputs": [],
   "source": []
  },
  {
   "cell_type": "markdown",
   "source": [
    "### 3. \n",
    "В переменной a сохранено число с десятичной частью но в формате строки, например '3.14'. В переменную с сохраните целую часть из числа в переменной a."
   ],
   "metadata": {
    "collapsed": false
   },
   "id": "644f379e20d32e10"
  },
  {
   "cell_type": "markdown",
   "source": [
    "Пример:"
   ],
   "metadata": {
    "collapsed": false
   },
   "id": "6754faf2cb17d2f"
  },
  {
   "cell_type": "code",
   "execution_count": 1,
   "outputs": [],
   "source": [
    "a = '3.14'\n",
    "c = 3\n",
    "\n",
    "a = '99.9'\n",
    "c = 99\n",
    "\n",
    "a = '0.33'\n",
    "c = 0"
   ],
   "metadata": {
    "collapsed": false,
    "ExecuteTime": {
     "end_time": "2024-11-16T09:24:25.438200400Z",
     "start_time": "2024-11-16T09:24:25.428781700Z"
    }
   },
   "id": "77f4a7a11fab9903"
  },
  {
   "cell_type": "code",
   "execution_count": null,
   "outputs": [],
   "source": [],
   "metadata": {
    "collapsed": false
   },
   "id": "556e5e697596db3"
  },
  {
   "cell_type": "markdown",
   "source": [
    "### 4. \n",
    "В переменной m хранится целое положительное число — продолжительность сна в минутах. Если продолжительность сна составит от 7 до 9 часов включительно, то в переменную optimal_sleep_duration сохраните значение True. В противном случае присвойте этой переменной значение False."
   ],
   "metadata": {
    "collapsed": false
   },
   "id": "bbdf26f5033791b5"
  },
  {
   "cell_type": "markdown",
   "source": [
    "Пример:"
   ],
   "metadata": {
    "collapsed": false
   },
   "id": "913cf13fd2160218"
  },
  {
   "cell_type": "code",
   "execution_count": 2,
   "outputs": [],
   "source": [
    "m = 410  \n",
    "optimal_sleep_duration = False\n",
    "\n",
    "m = 500\n",
    "optimal_sleep_duration = True"
   ],
   "metadata": {
    "collapsed": false,
    "ExecuteTime": {
     "end_time": "2024-11-16T09:25:06.791968Z",
     "start_time": "2024-11-16T09:25:06.782442800Z"
    }
   },
   "id": "2dd0db6d359d40cf"
  },
  {
   "cell_type": "code",
   "execution_count": null,
   "outputs": [],
   "source": [],
   "metadata": {
    "collapsed": false
   },
   "id": "67ec18a9fd26251a"
  }
 ],
 "metadata": {
  "kernelspec": {
   "display_name": "Python 3",
   "language": "python",
   "name": "python3"
  },
  "language_info": {
   "codemirror_mode": {
    "name": "ipython",
    "version": 2
   },
   "file_extension": ".py",
   "mimetype": "text/x-python",
   "name": "python",
   "nbconvert_exporter": "python",
   "pygments_lexer": "ipython2",
   "version": "2.7.6"
  }
 },
 "nbformat": 4,
 "nbformat_minor": 5
}
